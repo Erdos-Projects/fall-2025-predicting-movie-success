{
 "cells": [
  {
   "cell_type": "markdown",
   "id": "78b20783",
   "metadata": {},
   "source": [
    "First is the methodology test, then the code which turns it into a function"
   ]
  },
  {
   "cell_type": "code",
   "execution_count": 6,
   "id": "309e8b2b",
   "metadata": {},
   "outputs": [],
   "source": [
    "import csv\n",
    "import pandas as pd\n",
    "import numpy as np\n"
   ]
  },
  {
   "cell_type": "code",
   "execution_count": null,
   "id": "c6fea8d6",
   "metadata": {},
   "outputs": [
    {
     "name": "stdout",
     "output_type": "stream",
     "text": [
      "   0.5   1  1.5    2  2.5    3  3.5    4  4.5    5\n",
      "0   31  57   57  108  116  214  390  497  389  215\n",
      "1   27  83   78   84  110  199  238  253  154   82\n",
      "2   39  66  103  149  189  256  282  303   82   29\n",
      "3   26  96  121  207  279  453  529  446  258  131\n",
      "4   37  72  191  341  454  724  622  451  190   97\n",
      "   mean  average\n",
      "0  3.61     3.61\n",
      "1  3.21     3.21\n",
      "2  3.00     3.00\n",
      "3  3.23     3.23\n",
      "4  3.05     3.05\n"
     ]
    }
   ],
   "source": [
    "# Open the CSV file using pandas into a data frame\n",
    "csv_file_path = '/Users/connorlockhart/Documents/GitHub/fall-2025-predicting-movie-success/Copy_popular_users_ratings_1k.csv'\n",
    "df = pd.read_csv(csv_file_path)\n",
    "\n",
    "#two ways to get the mean rating for each user\n",
    "\n",
    "# Get the mean rating for each user\n",
    "df['mean'] = (df['0.5']*0.5 + df['1']*1.0 + df['1.5']*1.5 + df['2']*2.0 + df['2.5']*2.5 + df['3']*3.0 + df['3.5']*3.5 + df['4']*4.0 + df['4.5']*4.5 + df['5']*5.0)/df['total']\n",
    "#Round the mean to 2 decimal places\n",
    "df['mean'] = df['mean'].round(2)\n",
    "\n",
    "\n",
    "# Extract only the ratings columns for correlation calculation\n",
    "ratings = df.iloc[:, 1:11]\n",
    "print(ratings.head(n = 5))\n",
    "#define the weights\n",
    "weights = [0.5, 1.0, 1.5, 2.0, 2.5, 3.0, 3.5, 4.0, 4.5, 5.0]\n",
    "#take the dot product of ratings and weights\n",
    "df['weighted_sum'] = ratings.dot(weights)\n",
    "df['average'] = df['weighted_sum'] / df['total']\n",
    "#Round the average to 2 decimal places\n",
    "df['average'] = df['average'].round(2)\n",
    "\n",
    "# Verify that both methods give the same result\n",
    "print(df[['mean', 'average']].head(n=5))\n",
    "\n"
   ]
  },
  {
   "cell_type": "code",
   "execution_count": null,
   "id": "2c90e9b6",
   "metadata": {},
   "outputs": [],
   "source": [
    "#Define a function which automates the above process\n",
    "def add_mean_column(input_csv, output_csv, start_col, end_col, col_name):\n",
    "    # Read the input CSV file into a DataFrame\n",
    "    df = pd.read_csv(input_csv)\n",
    "\n",
    "    # Extract only the ratings columns for correlation calculation\n",
    "    ratings = df.iloc[:, start_col:end_col]\n",
    "\n",
    "    # Define the weights based on the rating values\n",
    "    weights = [i * 0.5 for i in range(1, end_col - start_col + 1)]\n",
    "\n",
    "    # Calculate the weighted sum and average\n",
    "    df['weighted_sum'] = ratings.dot(weights)\n",
    "    df[col_name] = df['weighted_sum'] / df['total']\n",
    "\n",
    "    # Round the new column to 2 decimal places\n",
    "    df[col_name] = df[col_name].round(2)\n",
    "\n",
    "    # Optional\n",
    "    # Drop the temporary weighted_sum column\n",
    "    #df.drop(columns=['weighted_sum'], inplace=True)\n",
    "\n",
    "    #Optional- reality check\n",
    "    #print(df.head(n=5))\n",
    "\n",
    "    # Save the updated DataFrame to the output CSV file\n",
    "    df.to_csv(output_csv, index=False)\n",
    "\n",
    "# Example usage\n",
    "input_csv = '/Users/connorlockhart/Documents/GitHub/fall-2025-predicting-movie-success/Copy_popular_users_ratings_1k.csv'\n",
    "output_csv = '/Users/connorlockhart/Documents/GitHub/fall-2025-predicting-movie-success/Copy_popular_users_ratings_1k_with_avg.csv'\n",
    "add_mean_column(input_csv, output_csv, 1, 11, 'mean')\n",
    "\n"
   ]
  },
  {
   "cell_type": "code",
   "execution_count": null,
   "id": "76c91b2f",
   "metadata": {},
   "outputs": [],
   "source": [
    "#Standard Deviation Calculation\n",
    "# Function to calculate standard deviation of ratings for each user\n",
    "csv_file_path = '/Users/connorlockhart/Documents/GitHub/fall-2025-predicting-movie-success/Copy_popular_users_ratings_1k_with_avg.csv'\n",
    "df = pd.read_csv(csv_file_path)\n",
    "\n",
    "#function which subtracts the mean from each rating, squares the result, multiplies by the count, sums them, divides by total count, and takes the square root\n",
    "#row is the input data frame, make sure the header is appropriately labeled\n",
    "def calculate_std_dev(row):\n",
    "    mean = row['mean']\n",
    "    variance = (\n",
    "        ((row['0.5'] * (0.5 - mean) ** 2) +\n",
    "         (row['1'] * (1.0 - mean) ** 2) +\n",
    "         (row['1.5'] * (1.5 - mean) ** 2) +\n",
    "         (row['2'] * (2.0 - mean) ** 2) +\n",
    "         (row['2.5'] * (2.5 - mean) ** 2) +\n",
    "         (row['3'] * (3.0 - mean) ** 2) +\n",
    "         (row['3.5'] * (3.5 - mean) ** 2) +\n",
    "         (row['4'] * (4.0 - mean) ** 2) +\n",
    "         (row['4.5'] * (4.5 - mean) ** 2) +\n",
    "         (row['5'] * (5.0 - mean) ** 2))\n",
    "        / row['total']\n",
    "    )\n",
    "    return np.sqrt(variance)    \n",
    "\n",
    "df['std_dev'] = df.apply(calculate_std_dev, axis=1)\n",
    "df['std_dev'] = df['std_dev'].round(2)\n",
    "#print(df.head(n=20))"
   ]
  },
  {
   "cell_type": "code",
   "execution_count": null,
   "id": "ab4fb524",
   "metadata": {},
   "outputs": [],
   "source": []
  }
 ],
 "metadata": {
  "kernelspec": {
   "display_name": "base",
   "language": "python",
   "name": "python3"
  },
  "language_info": {
   "codemirror_mode": {
    "name": "ipython",
    "version": 3
   },
   "file_extension": ".py",
   "mimetype": "text/x-python",
   "name": "python",
   "nbconvert_exporter": "python",
   "pygments_lexer": "ipython3",
   "version": "3.13.5"
  }
 },
 "nbformat": 4,
 "nbformat_minor": 5
}
