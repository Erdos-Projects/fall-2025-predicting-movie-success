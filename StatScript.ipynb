{
 "cells": [
  {
   "cell_type": "markdown",
   "id": "78b20783",
   "metadata": {},
   "source": [
    "First is the methodology test, then the code which turns it into a function"
   ]
  },
  {
   "cell_type": "code",
   "execution_count": 6,
   "id": "309e8b2b",
   "metadata": {},
   "outputs": [],
   "source": [
    "import csv\n",
    "import pandas as pd\n",
    "import numpy as np\n"
   ]
  },
  {
   "cell_type": "code",
   "execution_count": null,
   "id": "c6fea8d6",
   "metadata": {},
   "outputs": [
    {
     "name": "stdout",
     "output_type": "stream",
     "text": [
      "   0.5   1  1.5    2  2.5    3  3.5    4  4.5    5\n",
      "0   31  57   57  108  116  214  390  497  389  215\n",
      "1   27  83   78   84  110  199  238  253  154   82\n",
      "2   39  66  103  149  189  256  282  303   82   29\n",
      "3   26  96  121  207  279  453  529  446  258  131\n",
      "4   37  72  191  341  454  724  622  451  190   97\n",
      "   mean  average\n",
      "0  3.61     3.61\n",
      "1  3.21     3.21\n",
      "2  3.00     3.00\n",
      "3  3.23     3.23\n",
      "4  3.05     3.05\n"
     ]
    }
   ],
   "source": [
    "# Open the CSV file using pandas into a data frame\n",
    "csv_file_path = '/Users/connorlockhart/Documents/GitHub/fall-2025-predicting-movie-success/Copy_popular_users_ratings_1k.csv'\n",
    "df = pd.read_csv(csv_file_path)\n",
    "\n",
    "#two ways to get the mean rating for each user\n",
    "\n",
    "# Get the mean rating for each user\n",
    "df['mean'] = (df['0.5']*0.5 + df['1']*1.0 + df['1.5']*1.5 + df['2']*2.0 + df['2.5']*2.5 + df['3']*3.0 + df['3.5']*3.5 + df['4']*4.0 + df['4.5']*4.5 + df['5']*5.0)/df['total']\n",
    "#Round the mean to 2 decimal places\n",
    "df['mean'] = df['mean'].round(2)\n",
    "\n",
    "\n",
    "# Extract only the ratings columns for correlation calculation\n",
    "ratings = df.iloc[:, 1:11]\n",
    "print(ratings.head(n = 5))\n",
    "#define the weights\n",
    "weights = [0.5, 1.0, 1.5, 2.0, 2.5, 3.0, 3.5, 4.0, 4.5, 5.0]\n",
    "#take the dot product of ratings and weights\n",
    "df['weighted_sum'] = ratings.dot(weights)\n",
    "df['average'] = df['weighted_sum'] / df['total']\n",
    "#Round the average to 2 decimal places\n",
    "df['average'] = df['average'].round(2)\n",
    "\n",
    "# Verify that both methods give the same result\n",
    "print(df[['mean', 'average']].head(n=5))\n",
    "\n"
   ]
  },
  {
   "cell_type": "code",
   "execution_count": null,
   "id": "2c90e9b6",
   "metadata": {},
   "outputs": [],
   "source": [
    "#Define a function which automates the above process\n",
    "def add_mean_column(input_csv, output_csv, start_col, end_col, col_name):\n",
    "    # Read the input CSV file into a DataFrame\n",
    "    df = pd.read_csv(input_csv)\n",
    "\n",
    "    # Extract only the ratings columns for correlation calculation\n",
    "    ratings = df.iloc[:, start_col:end_col]\n",
    "\n",
    "    # Define the weights based on the rating values\n",
    "    weights = [i * 0.5 for i in range(1, end_col - start_col + 1)]\n",
    "\n",
    "    # Calculate the weighted sum and average\n",
    "    df['weighted_sum'] = ratings.dot(weights)\n",
    "    df[col_name] = df['weighted_sum'] / df['total']\n",
    "\n",
    "    # Round the new column to 2 decimal places\n",
    "    df[col_name] = df[col_name].round(2)\n",
    "\n",
    "    # Optional\n",
    "    # Drop the temporary weighted_sum column\n",
    "    #df.drop(columns=['weighted_sum'], inplace=True)\n",
    "\n",
    "    #Optional- reality check\n",
    "    #print(df.head(n=5))\n",
    "\n",
    "    # Save the updated DataFrame to the output CSV file\n",
    "    df.to_csv(output_csv, index=False)\n",
    "\n",
    "# Example usage\n",
    "input_csv = '/Users/connorlockhart/Documents/GitHub/fall-2025-predicting-movie-success/Copy_popular_users_ratings_1k.csv'\n",
    "output_csv = '/Users/connorlockhart/Documents/GitHub/fall-2025-predicting-movie-success/Copy_popular_users_ratings_1k_with_avg.csv'\n",
    "add_mean_column(input_csv, output_csv, 1, 11, 'mean')\n",
    "\n"
   ]
  },
  {
   "cell_type": "code",
   "execution_count": null,
   "id": "76c91b2f",
   "metadata": {},
   "outputs": [
    {
     "name": "stdout",
     "output_type": "stream",
     "text": [
      "           username  0.5    1  1.5    2  2.5     3   3.5     4  4.5    5  \\\n",
      "0          kurstboy   31   57   57  108  116   214   390   497  389  215   \n",
      "1      schaffrillas   27   83   78   84  110   199   238   253  154   82   \n",
      "2               jay   39   66  103  149  189   256   282   303   82   29   \n",
      "3        deathproof   26   96  121  207  279   453   529   446  258  131   \n",
      "4      davidehrlich   37   72  191  341  454   724   622   451  190   97   \n",
      "5          thejoshl    0  254    0  897    0  1901     0  1560    0  435   \n",
      "6    ingridgoeswest   80  104   81  131  158   252   339   560  372  311   \n",
      "7   colonelmortimer   21  127  203  524  629  1545  1211   900  223  142   \n",
      "8        silentdawn   45  125  135  318  487   701  1061  1113  870  454   \n",
      "9      framesofnick   62   93   56  113  117   211   171   303  148  177   \n",
      "10       suspirliam   14   31   39  109  170   498   769  1010  402  461   \n",
      "11         aarnwlsn   20   25   35  103   95   234   191   304  175  226   \n",
      "12       superpulse   51  133  197  332  449   633   717   561  212  113   \n",
      "13    zoerosebryant  127  195  270  385  558   796  1148   829  370  295   \n",
      "14       davidlsims   30  203  185  481  363   899   789   847  511  575   \n",
      "15        jaragon23   12   39  108  147  197   277   357   443  222  160   \n",
      "16             brat    8   32   39   97  131   302   551   597  224   83   \n",
      "17     sapphicquinn   41   84   63   99   96   197   167   251   93  158   \n",
      "18         tototoro   63  112   51  105  110   177   187   191   67   98   \n",
      "19      sophiedarcy   42   53   80  146  223   467   558   508  291  142   \n",
      "\n",
      "    total  weighted_sum  mean  std_dev  \n",
      "0    2074        7484.5  3.61     1.04  \n",
      "1    1308        4201.5  3.21     1.15  \n",
      "2    1498        4491.5  3.00     1.04  \n",
      "3    2546        8212.5  3.23     1.02  \n",
      "4    3179        9687.0  3.05     0.94  \n",
      "5    5047       16166.0  3.20     1.00  \n",
      "6    2388        8334.0  3.49     1.20  \n",
      "7    5525       17249.5  3.12     0.85  \n",
      "8    5309       18657.0  3.51     1.00  \n",
      "9    1451        4721.0  3.25     1.26  \n",
      "10   3503       13079.0  3.73     0.85  \n",
      "11   1408        5035.0  3.58     1.07  \n",
      "12   3398       10412.0  3.06     1.00  \n",
      "13   4973       15690.5  3.16     1.07  \n",
      "14   4883       16386.0  3.36     1.10  \n",
      "15   1962        6645.0  3.39     1.02  \n",
      "16   2064        7261.5  3.52     0.83  \n",
      "17   1249        4025.0  3.22     1.24  \n",
      "18   1161        3446.0  2.97     1.27  \n",
      "19   2510        8449.0  3.37     0.98  \n"
     ]
    }
   ],
   "source": [
    "#Standard Deviation Calculation\n",
    "# Function to calculate standard deviation of ratings for each user\n",
    "csv_file_path = '/Users/connorlockhart/Documents/GitHub/fall-2025-predicting-movie-success/Copy_popular_users_ratings_1k_with_avg.csv'\n",
    "df = pd.read_csv(csv_file_path)\n",
    "\n",
    "#function which subtracts the mean from each rating, squares the result, multiplies by the count, sums them, divides by total count, and takes the square root\n",
    "def calculate_std_dev(row):\n",
    "    mean = row['mean']\n",
    "    variance = (\n",
    "        ((row['0.5'] * (0.5 - mean) ** 2) +\n",
    "         (row['1'] * (1.0 - mean) ** 2) +\n",
    "         (row['1.5'] * (1.5 - mean) ** 2) +\n",
    "         (row['2'] * (2.0 - mean) ** 2) +\n",
    "         (row['2.5'] * (2.5 - mean) ** 2) +\n",
    "         (row['3'] * (3.0 - mean) ** 2) +\n",
    "         (row['3.5'] * (3.5 - mean) ** 2) +\n",
    "         (row['4'] * (4.0 - mean) ** 2) +\n",
    "         (row['4.5'] * (4.5 - mean) ** 2) +\n",
    "         (row['5'] * (5.0 - mean) ** 2))\n",
    "        / row['total']\n",
    "    )\n",
    "    return np.sqrt(variance)    \n",
    "\n",
    "df['std_dev'] = df.apply(calculate_std_dev, axis=1)\n",
    "df['std_dev'] = df['std_dev'].round(2)\n",
    "#print(df.head(n=20))"
   ]
  },
  {
   "cell_type": "code",
   "execution_count": null,
   "id": "ab4fb524",
   "metadata": {},
   "outputs": [],
   "source": []
  }
 ],
 "metadata": {
  "kernelspec": {
   "display_name": "base",
   "language": "python",
   "name": "python3"
  },
  "language_info": {
   "codemirror_mode": {
    "name": "ipython",
    "version": 3
   },
   "file_extension": ".py",
   "mimetype": "text/x-python",
   "name": "python",
   "nbconvert_exporter": "python",
   "pygments_lexer": "ipython3",
   "version": "3.13.5"
  }
 },
 "nbformat": 4,
 "nbformat_minor": 5
}
