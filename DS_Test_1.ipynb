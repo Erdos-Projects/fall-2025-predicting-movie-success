{
 "cells": [
  {
   "cell_type": "markdown",
   "id": "ab7a0319-f194-4437-b0da-0a6a4a34ac66",
   "metadata": {},
   "source": [
    "These are just the imports that the documentation for webdriver-manager was saying to use for selenium 4"
   ]
  },
  {
   "cell_type": "code",
   "execution_count": 3,
   "id": "95f32d04-e3fd-4c71-aa99-35eb06f97908",
   "metadata": {},
   "outputs": [],
   "source": [
    "from selenium import webdriver\n",
    "from selenium.webdriver.chrome.service import Service as ChromeService\n",
    "from webdriver_manager.chrome import ChromeDriverManager"
   ]
  },
  {
   "cell_type": "markdown",
   "id": "bfe70754-03dd-481f-99a1-dd2a625a2a73",
   "metadata": {},
   "source": [
    "The main differences in this test run just come from changing the code to not run through so many for/while loops since \n",
    "we're only testing the first page for now"
   ]
  },
  {
   "cell_type": "code",
   "execution_count": 4,
   "id": "8dbc258d-30e8-453e-98e1-bee067e93a78",
   "metadata": {},
   "outputs": [],
   "source": [
    "from lxml import html ## This package is just what will let the code read the html off the page I think"
   ]
  },
  {
   "cell_type": "code",
   "execution_count": null,
   "id": "ff5a8a01-0447-4a0c-b3f4-5b5ce7e6a7c6",
   "metadata": {},
   "outputs": [],
   "source": [
    "\n",
    "genres = ['action']\n",
    "n_pages = [1]     \n",
    "\n",
    "\n",
    "def scrape_letterboxd_lists():\n",
    "\n",
    "    # Open the virtual browser\n",
    "    browser = webdriver.Chrome(ChromeDriverManager().install())\n",
    "\n",
    "    # For each genre\n",
    "\n",
    "\n",
    "        # Open a file for that genre\n",
    "        filename = 'data/letterboxd/action.csv'\n",
    "        with open(filename, 'w+') as file_object:\n",
    "\n",
    "            # page = 1 # Start at page 1\n",
    "            # total = 0 #   ## These variables end up not being used\n",
    "\n",
    "            print(f\"Starting page number {page}...\")\n",
    "            pagename = f'https://letterboxd.com/films/popular/genre/{genres[g]}/size/small/page/{page}/'\n",
    "            browser.get(pagename)\n",
    "            print(\"Getting innerHTML...\")\n",
    "            innerHTML = browser.execute_script(\"return document.body.innerHTML\")\n",
    "            print(\"Creating tree...\")\n",
    "            tree = html.fromstring(innerHTML)\n",
    "        \n",
    "            # Grab the relevant data and put into lists\n",
    "            print(\"parsing...\")                                            ## The original set of items that were made here are more than we need\n",
    "            # newtitles = tree.xpath('//ul[@class=\"poster-list -p70 -grid\"]/li/div/@data-film-name')\n",
    "            # newurls = tree.xpath('//ul[@class=\"poster-list -p70 -grid\"]/li/div/@data-film-link')\n",
    "            # newyears = tree.xpath('//ul[@class=\"poster-list -p70 -grid\"]/li/div/@data-film-release-year')\n",
    "            # newids = tree.xpath('//ul[@class=\"poster-list -p70 -grid\"]/li/div/@data-film-id')\n",
    "\n",
    "                # if ((len(newtitles) != 72) & (not (page>=n_pages[g]))):\n",
    "                #     print(\"Glitch\")     # Page did not load properly so go back to the \n",
    "                #     continue            # top of the loop without incrementing and try again\n",
    "                # else:\n",
    "                #     page += 1\n",
    "                #     total += len(newtitles)\n",
    "                #     print(\"writing to file...\")\n",
    "                #     print(f\"{page} {total}\")             ## In addition, the if/else loop will be relevant only once we test more than one page\n",
    " \n",
    "            \n",
    "                for i in range(0,len(newtitles)):\n",
    "                    file_object.write(f'\"{newids[i]}\",')\n",
    "                    file_object.write(f'\"{newtitles[i]}\",')\n",
    "                    file_object.write(f'\"https://letterboxd.com{newurls[i]}\",')\n",
    "                    file_object.write(f'\"{newyears[i]}\"\\n')\n",
    "\n",
    "        print(f\"File {filename} written\")"
   ]
  },
  {
   "cell_type": "code",
   "execution_count": null,
   "id": "f9189ba5-5a9e-4d25-8a8e-1d53f4393904",
   "metadata": {},
   "outputs": [],
   "source": []
  }
 ],
 "metadata": {
  "kernelspec": {
   "display_name": "Python 3 (ipykernel)",
   "language": "python",
   "name": "python3"
  },
  "language_info": {
   "codemirror_mode": {
    "name": "ipython",
    "version": 3
   },
   "file_extension": ".py",
   "mimetype": "text/x-python",
   "name": "python",
   "nbconvert_exporter": "python",
   "pygments_lexer": "ipython3",
   "version": "3.13.5"
  }
 },
 "nbformat": 4,
 "nbformat_minor": 5
}
