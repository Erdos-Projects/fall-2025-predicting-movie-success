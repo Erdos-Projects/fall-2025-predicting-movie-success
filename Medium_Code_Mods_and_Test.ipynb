{
 "cells": [
  {
   "cell_type": "markdown",
   "id": "ab7a0319-f194-4437-b0da-0a6a4a34ac66",
   "metadata": {},
   "source": [
    "These are just the imports that the documentation for webdriver-manager was saying to use for selenium 4"
   ]
  },
  {
   "cell_type": "code",
   "execution_count": 1,
   "id": "95f32d04-e3fd-4c71-aa99-35eb06f97908",
   "metadata": {},
   "outputs": [],
   "source": [
    "from selenium import webdriver\n",
    "from selenium.webdriver.chrome.service import Service as ChromeService\n",
    "from webdriver_manager.chrome import ChromeDriverManager"
   ]
  },
  {
   "cell_type": "markdown",
   "id": "bfe70754-03dd-481f-99a1-dd2a625a2a73",
   "metadata": {},
   "source": [
    "The main differences in this test run just come from changing the code to not run through so many for/while loops since \n",
    "we're only testing the first page for now"
   ]
  },
  {
   "cell_type": "code",
   "execution_count": 2,
   "id": "8dbc258d-30e8-453e-98e1-bee067e93a78",
   "metadata": {},
   "outputs": [],
   "source": [
    "from lxml import html ## This package is just what will let the code read the html off the page I think"
   ]
  },
  {
   "cell_type": "code",
   "execution_count": 3,
   "id": "ff5a8a01-0447-4a0c-b3f4-5b5ce7e6a7c6",
   "metadata": {},
   "outputs": [],
   "source": [
    "\n",
    "genres = ['action']\n",
    "n_pages = [1]     \n",
    "\n",
    "\n",
    "def scrape_letterboxd_lists():\n",
    "\n",
    "    # Open the virtual browser\n",
    "    browser = webdriver.Chrome()\n",
    "\n",
    "    # For each genre\n",
    "\n",
    "\n",
    "        # Open a file for that genre\n",
    "    filename = 'letterboxd_action_data.csv'\n",
    "    with open(filename, 'w+') as file_object:\n",
    "\n",
    "            # page = 1 # Start at page 1\n",
    "            # total = 0 #   ## These variables end up not being used\n",
    "\n",
    "        print(f\"Starting page number 1...\")\n",
    "        pagename = f'https://letterboxd.com/films/popular/genre/action/size/small/page/1/'\n",
    "        browser.get(pagename)\n",
    "        print(\"Getting innerHTML...\")\n",
    "        innerHTML = browser.execute_script(\"return document.body.innerHTML\")\n",
    "        print(\"Creating tree...\")\n",
    "        tree = html.fromstring(innerHTML)\n",
    "    \n",
    "        # Grab the relevant data and put into lists\n",
    "        print(\"parsing...\")                                            ## The original set of items that were made here are more than we need\n",
    "        newtitles = tree.xpath('//ul[@class=\"poster-list -p70 -grid\"]/li/div/@data-item-name')\n",
    "        # newurls = tree.xpath('//ul[@class=\"poster-list -p70 -grid\"]/li/div/@data-film-link')\n",
    "        # newyears = tree.xpath('//ul[@class=\"poster-list -p70 -grid\"]/li/div/@data-film-release-year')\n",
    "        # newids = tree.xpath('//ul[@class=\"poster-list -p70 -grid\"]/li/div/@data-film-id')\n",
    "\n",
    "            # if ((len(newtitles) != 72) & (not (page>=n_pages[g]))):\n",
    "            #     print(\"Glitch\")     # Page did not load properly so go back to the \n",
    "            #     continue            # top of the loop without incrementing and try again\n",
    "            # else:\n",
    "            #     page += 1\n",
    "            #     total += len(newtitles)\n",
    "            #     print(\"writing to file...\")\n",
    "            #     print(f\"{page} {total}\")             ## In addition, the if/else loop will be relevant only once we test more than one page\n",
    "\n",
    "        \n",
    "        for i in range(0,len(newtitles)):\n",
    "            #file_object.write(f'\"{newids[i]}\",')\n",
    "            file_object.write(f'\"{newtitles[i]}\",')\n",
    "            #file_object.write(f'\"https://letterboxd.com{newurls[i]}\",')\n",
    "            #file_object.write(f'\"{newyears[i]}\"\\n')\n",
    "\n",
    "        print(f\"File {filename} written\")"
   ]
  },
  {
   "cell_type": "code",
   "execution_count": 4,
   "id": "f9189ba5-5a9e-4d25-8a8e-1d53f4393904",
   "metadata": {},
   "outputs": [
    {
     "name": "stdout",
     "output_type": "stream",
     "text": [
      "Starting page number 1...\n",
      "Getting innerHTML...\n",
      "Creating tree...\n",
      "parsing...\n",
      "File letterboxd_action_data.csv written\n"
     ]
    }
   ],
   "source": [
    "scrape_letterboxd_lists()"
   ]
  },
  {
   "cell_type": "code",
   "execution_count": 6,
   "id": "1a2b1efb-7b56-44b9-a9a1-f2b4f2202f8d",
   "metadata": {},
   "outputs": [
    {
     "name": "stdout",
     "output_type": "stream",
     "text": [
      "\"Everything Everywhere All at Once (2022)\",\"Spider-Man: Into the Spider-Verse (2018)\",\"The Dark Knight (2008)\",\"Inception (2010)\",\"Sinners (2025)\",\"Spider-Man: Across the Spider-Verse (2023)\",\"Superman (2025)\",\"Spider-Man: No Way Home (2021)\",\"Kill Bill: Vol. 1 (2003)\",\"Avengers: Infinity War (2018)\",\"Avengers: Endgame (2019)\",\"Baby Driver (2017)\",\"Deadpool & Wolverine (2024)\",\"The Matrix (1999)\",\"Scott Pilgrim vs. the World (2010)\",\"The Lord of the Rings: The Fellowship of the Ring (2001)\",\"The Hunger Games (2012)\",\"Guardians of the Galaxy (2014)\",\"Star Wars (1977)\",\"Black Panther (2018)\",\"Deadpool (2016)\",\"Mad Max: Fury Road (2015)\",\"Spider-Man: Homecoming (2017)\",\"Top Gun: Maverick (2022)\",\"Guardians of the Galaxy Vol. 3 (2023)\",\"Bullet Train (2022)\",\"Avatar (2009)\",\"Avatar: The Way of Water (2022)\",\"The Avengers (2012)\",\"Thunderbolts* (2025)\",\"Spider-Man (2002)\",\"Gladiator (2000)\",\"The Empire Strikes Back (1980)\",\"Star Wars: Episode III – Revenge of the Sith (2005)\",\"The Lord of the Rings: The Return of the King (2003)\",\"Spider-Man: Far From Home (2019)\",\"Thor: Ragnarok (2017)\",\"Iron Man (2008)\",\"The Incredibles (2004)\",\"Oldboy (2003)\",\"The Lord of the Rings: The Two Towers (2002)\",\"The Hunger Games: Catching Fire (2013)\",\"Doctor Strange in the Multiverse of Madness (2022)\",\"The Hunger Games: The Ballad of Songbirds & Snakes (2023)\",\"Dunkirk (2017)\",\"Spider-Man 2 (2004)\",\"Captain America: Civil War (2016)\",\"Batman Begins (2005)\",\"Guardians of the Galaxy Vol. 2 (2017)\",\"Tenet (2020)\",\"The Dark Knight Rises (2012)\",\"John Wick (2014)\",\"Scarface (1983)\",\"Captain America: The Winter Soldier (2014)\",\"Doctor Strange (2016)\",\"Gladiator II (2024)\",\"A Minecraft Movie (2025)\",\"F1 (2025)\",\"Pirates of the Caribbean: The Curse of the Black Pearl (2003)\",\"Return of the Jedi (1983)\",\"Star Wars: Episode I – The Phantom Menace (1999)\",\"Avengers: Age of Ultron (2015)\",\"Star Wars: The Force Awakens (2015)\",\"Kill Bill: Vol. 2 (2004)\",\"The Amazing Spider-Man (2012)\",\"Deadpool 2 (2018)\",\"Léon: The Professional (1994)\",\"Captain America: The First Avenger (2011)\",\"Rogue One: A Star Wars Story (2016)\",\"Star Wars: Episode II – Attack of the Clones (2002)\",\"Civil War (2024)\",\"The Suicide Squad (2021)\",\n"
     ]
    }
   ],
   "source": [
    "with open('letterboxd_action_data.csv', 'r') as filename:\n",
    "    print(filename.read())"
   ]
  },
  {
   "cell_type": "markdown",
   "id": "60405cfb-44a4-41ea-a250-398ba102688a",
   "metadata": {},
   "source": [
    "output: \"Everything Everywhere All at Once (2022)\",\"Spider-Man: Into the Spider-Verse (2018)\",\"The Dark Knight (2008)\",\"Inception (2010)\",\"Sinners (2025)\",\"Spider-Man: Across the Spider-Verse (2023)\",\"Superman (2025)\",\"Spider-Man: No Way Home (2021)\",\"Kill Bill: Vol. 1 (2003)\",\"Avengers: Infinity War (2018)\",\"Avengers: Endgame (2019)\",\"Baby Driver (2017)\",\"Deadpool & Wolverine (2024)\",\"The Matrix (1999)\",\"Scott Pilgrim vs. the World (2010)\",\"The Lord of the Rings: The Fellowship of the Ring (2001)\",\"The Hunger Games (2012)\",\"Guardians of the Galaxy (2014)\",\"Star Wars (1977)\",\"Black Panther (2018)\",\"Deadpool (2016)\",\"Mad Max: Fury Road (2015)\",\"Spider-Man: Homecoming (2017)\",\"Top Gun: Maverick (2022)\",\"Guardians of the Galaxy Vol. 3 (2023)\",\"Bullet Train (2022)\",\"Avatar (2009)\",\"Avatar: The Way of Water (2022)\",\"The Avengers (2012)\",\"Thunderbolts* (2025)\",\"Spider-Man (2002)\",\"Gladiator (2000)\",\"The Empire Strikes Back (1980)\",\"Star Wars: Episode III – Revenge of the Sith (2005)\",\"The Lord of the Rings: The Return of the King (2003)\",\"Spider-Man: Far From Home (2019)\",\"Thor: Ragnarok (2017)\",\"Iron Man (2008)\",\"The Incredibles (2004)\",\"Oldboy (2003)\",\"The Lord of the Rings: The Two Towers (2002)\",\"The Hunger Games: Catching Fire (2013)\",\"Doctor Strange in the Multiverse of Madness (2022)\",\"The Hunger Games: The Ballad of Songbirds & Snakes (2023)\",\"Dunkirk (2017)\",\"Spider-Man 2 (2004)\",\"Captain America: Civil War (2016)\",\"Batman Begins (2005)\",\"Guardians of the Galaxy Vol. 2 (2017)\",\"Tenet (2020)\",\"The Dark Knight Rises (2012)\",\"John Wick (2014)\",\"Scarface (1983)\",\"Captain America: The Winter Soldier (2014)\",\"Doctor Strange (2016)\",\"Gladiator II (2024)\",\"A Minecraft Movie (2025)\",\"F1 (2025)\",\"Pirates of the Caribbean: The Curse of the Black Pearl (2003)\",\"Return of the Jedi (1983)\",\"Star Wars: Episode I – The Phantom Menace (1999)\",\"Avengers: Age of Ultron (2015)\",\"Star Wars: The Force Awakens (2015)\",\"Kill Bill: Vol. 2 (2004)\",\"The Amazing Spider-Man (2012)\",\"Deadpool 2 (2018)\",\"Léon: The Professional (1994)\",\"Captain America: The First Avenger (2011)\",\"Rogue One: A Star Wars Story (2016)\",\"Star Wars: Episode II – Attack of the Clones (2002)\",\"Civil War (2024)\",\"The Suicide Squad (2021)\","
   ]
  },
  {
   "cell_type": "markdown",
   "id": "b77ddc41-6f47-45ca-989f-f23e58d980e2",
   "metadata": {},
   "source": [
    "By direct verification if needed, this does match up with the page itself"
   ]
  },
  {
   "cell_type": "code",
   "execution_count": null,
   "id": "c8aa8aa7-fcac-4e79-9be6-6aa3b041f489",
   "metadata": {},
   "outputs": [],
   "source": []
  }
 ],
 "metadata": {
  "kernelspec": {
   "display_name": "Python 3 (ipykernel)",
   "language": "python",
   "name": "python3"
  },
  "language_info": {
   "codemirror_mode": {
    "name": "ipython",
    "version": 3
   },
   "file_extension": ".py",
   "mimetype": "text/x-python",
   "name": "python",
   "nbconvert_exporter": "python",
   "pygments_lexer": "ipython3",
   "version": "3.13.5"
  }
 },
 "nbformat": 4,
 "nbformat_minor": 5
}
