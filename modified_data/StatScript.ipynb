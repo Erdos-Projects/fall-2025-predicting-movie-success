{
 "cells": [
  {
   "cell_type": "markdown",
   "id": "78b20783",
   "metadata": {},
   "source": [
    "First is the methodology test, then the code which turns it into a function"
   ]
  },
  {
   "cell_type": "code",
   "execution_count": 2,
   "id": "309e8b2b",
   "metadata": {},
   "outputs": [],
   "source": [
    "import csv\n",
    "import pandas as pd\n",
    "import numpy as np\n"
   ]
  },
  {
   "cell_type": "code",
   "execution_count": null,
   "id": "7ee9be8e",
   "metadata": {},
   "outputs": [],
   "source": [
    "csv_file_path = '/Users/connorlockhart/Documents/GitHub/fall-2025-predicting-movie-success/modCopy_popular_users_ratings_1k.csv'\n",
    "df = pd.read_csv(csv_file_path)"
   ]
  },
  {
   "cell_type": "code",
   "execution_count": null,
   "id": "c6fea8d6",
   "metadata": {},
   "outputs": [
    {
     "name": "stdout",
     "output_type": "stream",
     "text": [
      "   0.5   1  1.5    2  2.5    3  3.5    4  4.5    5\n",
      "0   31  57   57  108  116  214  390  497  389  215\n",
      "1   27  83   78   84  110  199  238  253  154   82\n",
      "2   39  66  103  149  189  256  282  303   82   29\n",
      "3   26  96  121  207  279  453  529  446  258  131\n",
      "4   37  72  191  341  454  724  622  451  190   97\n",
      "   mean  average\n",
      "0  3.61     3.61\n",
      "1  3.21     3.21\n",
      "2  3.00     3.00\n",
      "3  3.23     3.23\n",
      "4  3.05     3.05\n"
     ]
    }
   ],
   "source": [
    "# Open the CSV file using pandas into a data frame\n",
    "csv_file_path = '/Users/connorlockhart/Documents/GitHub/fall-2025-predicting-movie-success/Copy_popular_users_ratings_1k.csv'\n",
    "df = pd.read_csv(csv_file_path)\n",
    "\n",
    "#two ways to get the mean rating for each user\n",
    "\n",
    "# Get the mean rating for each user\n",
    "df['mean'] = (df['0.5']*0.5 + df['1']*1.0 + df['1.5']*1.5 + df['2']*2.0 + df['2.5']*2.5 + df['3']*3.0 + df['3.5']*3.5 + df['4']*4.0 + df['4.5']*4.5 + df['5']*5.0)/df['total']\n",
    "#Round the mean to 2 decimal places\n",
    "df['mean'] = df['mean'].round(2)\n",
    "\n",
    "\n",
    "# Extract only the ratings columns for correlation calculation\n",
    "ratings = df.iloc[:, 1:11]\n",
    "print(ratings.head(n = 5))\n",
    "#define the weights\n",
    "weights = [0.5, 1.0, 1.5, 2.0, 2.5, 3.0, 3.5, 4.0, 4.5, 5.0]\n",
    "#take the dot product of ratings and weights\n",
    "df['weighted_sum'] = ratings.dot(weights)\n",
    "df['average'] = df['weighted_sum'] / df['total']\n",
    "#Round the average to 2 decimal places\n",
    "df['average'] = df['average'].round(2)\n",
    "\n",
    "# Verify that both methods give the same result\n",
    "print(df[['mean', 'average']].head(n=5))\n",
    "\n"
   ]
  },
  {
   "cell_type": "code",
   "execution_count": 16,
   "id": "2c90e9b6",
   "metadata": {},
   "outputs": [],
   "source": [
    "#Define a function which automates the above process\n",
    "def add_mean_column(input_csv, output_csv, start_col, end_col, col_name):\n",
    "    # Read the input CSV file into a DataFrame\n",
    "    df = pd.read_csv(input_csv)\n",
    "\n",
    "    # Extract only the ratings columns for correlation calculation\n",
    "    ratings = df.iloc[:, start_col:end_col]\n",
    "\n",
    "    # Define the weights based on the rating values\n",
    "    weights = [i * 0.5 for i in range(1, end_col - start_col + 1)]\n",
    "\n",
    "    # Calculate the weighted sum and average\n",
    "    df['weighted_sum'] = ratings.dot(weights)\n",
    "    df[col_name] = df['weighted_sum'] / df['total']\n",
    "\n",
    "    # Round the new column to 2 decimal places\n",
    "    df[col_name] = df[col_name].round(2)\n",
    "\n",
    "    # Optional\n",
    "    # Drop the temporary weighted_sum column\n",
    "    #df.drop(columns=['weighted_sum'], inplace=True)\n",
    "\n",
    "    #Optional- reality check\n",
    "    #print(df.head(n=5))\n",
    "\n",
    "    # Save the updated DataFrame to the output CSV file\n",
    "    df.to_csv(output_csv, index=False)\n"
   ]
  },
  {
   "cell_type": "code",
   "execution_count": null,
   "id": "7e2b4418",
   "metadata": {},
   "outputs": [],
   "source": [
    "\n",
    "# Example usage\n",
    "input_csv = '/Users/connorlockhart/Documents/GitHub/fall-2025-predicting-movie-success/Copy_popular_users_ratings_1k.csv'\n",
    "output_csv = '/Users/connorlockhart/Documents/GitHub/fall-2025-predicting-movie-success/Copy_popular_users_ratings_1k_with_avg.csv'\n",
    "add_mean_column(input_csv, output_csv, 1, 11, 'mean')\n",
    "\n"
   ]
  },
  {
   "cell_type": "code",
   "execution_count": null,
   "id": "76c91b2f",
   "metadata": {},
   "outputs": [],
   "source": [
    "#Standard Deviation Calculation\n",
    "# Function to calculate standard deviation of ratings for each user\n",
    "csv_file_path = '/Users/connorlockhart/Documents/GitHub/fall-2025-predicting-movie-success/modified_data/Copy_popular_users_ratings_1k_with_avg.csv'\n",
    "df = pd.read_csv(csv_file_path)\n",
    "\n",
    "#function which subtracts the mean from each rating, squares the result, multiplies by the count, sums them, divides by total count, and takes the square root\n",
    "#row is the input data frame, make sure the header is appropriately labeled\n",
    "def calculate_std_dev(row):\n",
    "    mean = row['mean']\n",
    "    variance = (\n",
    "        ((row['0.5'] * (0.5 - mean) ** 2) +\n",
    "         (row['1'] * (1.0 - mean) ** 2) +\n",
    "         (row['1.5'] * (1.5 - mean) ** 2) +\n",
    "         (row['2'] * (2.0 - mean) ** 2) +\n",
    "         (row['2.5'] * (2.5 - mean) ** 2) +\n",
    "         (row['3'] * (3.0 - mean) ** 2) +\n",
    "         (row['3.5'] * (3.5 - mean) ** 2) +\n",
    "         (row['4'] * (4.0 - mean) ** 2) +\n",
    "         (row['4.5'] * (4.5 - mean) ** 2) +\n",
    "         (row['5'] * (5.0 - mean) ** 2))\n",
    "        / row['total']\n",
    "    )\n",
    "    return np.sqrt(variance)    \n",
    "\n",
    "df['std_dev'] = df.apply(calculate_std_dev, axis=1)\n",
    "df['std_dev'] = df['std_dev'].round(2)\n",
    "#print(df.head(n=20))\n",
    "#df['std_dev']=calculate_std_dev(df).round(2)\n",
    "#df.to_csv('/Users/connorlockhart/Documents/GitHub/fall-2025-predicting-movie-success/#modified_data/Copy_popular_users_ratings_1k_with_avg_std_dev.csv', index=False)"
   ]
  },
  {
   "cell_type": "code",
   "execution_count": 20,
   "id": "ab4fb524",
   "metadata": {},
   "outputs": [],
   "source": [
    "#Movie rating calculations\n",
    "csv_file_path='/Users/connorlockhart/Documents/GitHub/fall-2025-predicting-movie-success/modified_data/movie_review_winner_reviews_all_times_modified.csv'\n",
    "df = pd.read_csv(csv_file_path)\n",
    "add_mean_column(csv_file_path, '/Users/connorlockhart/Documents/GitHub/fall-2025-predicting-movie-success/modified_data/movie_review_winner_reviews_all_times_modified.csv', 1, 11, 'mean')\n",
    "\n",
    "df['std_dev'] = df.apply(calculate_std_dev, axis=1)\n",
    "df['std_dev'] = df['std_dev'].round(2)\n",
    "\n",
    "df.to_csv('/Users/connorlockhart/Documents/GitHub/fall-2025-predicting-movie-success/modified_data/movie_review_winner_reviews_all_times_modified.csv', index=False)\n"
   ]
  },
  {
   "cell_type": "markdown",
   "id": "c88cb934",
   "metadata": {},
   "source": [
    "Code Used for User distribution: Copy pasted from Data Wrangler"
   ]
  },
  {
   "cell_type": "code",
   "execution_count": null,
   "id": "cf9405d2",
   "metadata": {},
   "outputs": [],
   "source": [
    "import numpy as np\n",
    "import pandas as pd\n",
    "\n",
    "def clean_data(df):\n",
    "    #Calculate Mean\n",
    "    df['mean'] = (df['0.5']*0.5 + df['1']*1.0 + df['1.5']*1.5 + df['2']*2.0 + df['2.5']*2.5 + df['3']*3.0 + df['3.5']*3.5 + df['4']*4.0 + df['4.5']*4.5 + df['5']*5.0)/df['total']\n",
    "    df['mean'] = df['mean'].round(2)\n",
    "    #Calculate Standard Deviation\n",
    "    row = df\n",
    "    mean = row['mean']\n",
    "    df['variance'] = (\n",
    "        ((row['0.5'] * (0.5 - mean) ** 2) +\n",
    "        (row['1'] * (1.0 - mean) ** 2) +\n",
    "        (row['1.5'] * (1.5 - mean) ** 2) +\n",
    "        (row['2'] * (2.0 - mean) ** 2) +\n",
    "        (row['2.5'] * (2.5 - mean) ** 2) +\n",
    "        (row['3'] * (3.0 - mean) ** 2) +\n",
    "        (row['3.5'] * (3.5 - mean) ** 2) +\n",
    "        (row['4'] * (4.0 - mean) ** 2) +\n",
    "        (row['4.5'] * (4.5 - mean) ** 2) +\n",
    "        (row['5'] * (5.0 - mean) ** 2))\n",
    "        / row['total']\n",
    "        ).round(2)\n",
    "    df['std_dev'] = np.sqrt(df['variance']).round(2)\n",
    "    return df\n",
    "\n",
    "# Loaded variable 'df' from URI: /Users/connorlockhart/Documents/GitHub/fall-2025-predicting-movie-success/modified_data/Connor's Modified_data/user_distribution_and_reviews.csv\n",
    "df = pd.read_csv(r\"/Users/connorlockhart/Documents/GitHub/fall-2025-predicting-movie-success/modified_data/Connor's Modified_data/user_distribution_and_reviews.csv\")\n",
    "\n",
    "df_clean = clean_data(df.copy())\n",
    "df_clean.head()"
   ]
  },
  {
   "cell_type": "markdown",
   "id": "fdfac147",
   "metadata": {},
   "source": [
    "Code for incorporating z score copy Pasted from Data Wrangler"
   ]
  },
  {
   "cell_type": "code",
   "execution_count": 4,
   "id": "4dc9622e",
   "metadata": {},
   "outputs": [],
   "source": [
    "# Extract movie titles into a list\n",
    "movie_titles = [\n",
    "    \"anora\", \"conclave\", \"the-brutalist\", \"emilia-perez\", \"nickel-boys\", \n",
    "    \"wicked-2024\", \"maria-2024\", \"oppenheimer-2023\", \"poor-things-2023\", \n",
    "    \"the-holdovers\", \"american-fiction\", \"everything-everywhere-all-at-once\", \n",
    "    \"all-quiet-on-the-western-front-2022\", \"the-fabelmans\", \n",
    "    \"the-banshees-of-inisherin\", \"women-talking\", \"top-gun-maverick\", \n",
    "    \"elvis-2022\", \"coda-2021\", \"the-power-of-the-dog\", \"west-side-story-2021\", \n",
    "    \"dont-look-up-2021\", \"king-richard\", \"tick-tick-boom-2021\", \"dune-2021\", \n",
    "    \"mank\", \"nomadland\", \"the-trial-of-the-chicago-7\", \"borat-subsequent-moviefilm\", \n",
    "    \"promising-young-woman\", \"palm-springs-2020\", \"parasite-2019\", \"1917\", \n",
    "    \"once-upon-a-time-in-hollywood\", \"jojo-rabbit\", \"green-book\", \"roma-2018\", \n",
    "    \"black-panther\", \"bohemian-rhapsody\", \"eighth-grade\", \n",
    "    \"can-you-ever-forgive-me\", \"the-favourite\", \"cold-war-2018\", \n",
    "    \"the-shape-of-water\", \"three-billboards-outside-ebbing-missouri\", \n",
    "    \"lady-bird\", \"get-out-2017\", \"call-me-by-your-name\", \"dunkirk-2017\", \n",
    "    \"i-tonya\", \"blade-runner-2049\", \"moonlight-2016\", \"la-la-land\", \n",
    "    \"hidden-figures\", \"arrival-2016\", \"lion\", \"spotlight\", \"the-big-short\", \n",
    "    \"the-revenant-2015\", \"the-martian\", \"mad-max-fury-road\", \n",
    "    \"birdman-or-the-unexpected-virtue-of-ignorance\", \"boyhood\", \n",
    "    \"the-grand-budapest-hotel\", \"the-imitation-game\"\n",
    "]\n",
    "# Assign the list to a DataFrame\n",
    "dfmovies = pd.DataFrame({\"movies\": [movie_titles]})\n",
    "dfmovies.to_csv('/Users/connorlockhart/Documents/GitHub/fall-2025-predicting-movie-success/movies.csv', index=False)"
   ]
  },
  {
   "cell_type": "markdown",
   "id": "8d9ce0b3",
   "metadata": {},
   "source": [
    "Now to create our Z score spreadsheet for a given pair of dataframes "
   ]
  },
  {
   "cell_type": "code",
   "execution_count": 8,
   "id": "56fb807f",
   "metadata": {},
   "outputs": [
    {
     "ename": "ValueError",
     "evalue": "Length mismatch: Expected axis has 0 elements, new values have 80 elements",
     "output_type": "error",
     "traceback": [
      "\u001b[0;31m---------------------------------------------------------------------------\u001b[0m",
      "\u001b[0;31mValueError\u001b[0m                                Traceback (most recent call last)",
      "Cell \u001b[0;32mIn[8], line 14\u001b[0m\n\u001b[1;32m     10\u001b[0m     dfzscore[\u001b[38;5;124m'\u001b[39m\u001b[38;5;124muser_std_dev\u001b[39m\u001b[38;5;124m'\u001b[39m] \u001b[38;5;241m=\u001b[39m dfuser[\u001b[38;5;124m'\u001b[39m\u001b[38;5;124mstd_dev\u001b[39m\u001b[38;5;124m'\u001b[39m]\n\u001b[1;32m     12\u001b[0m     dfzscore\u001b[38;5;241m.\u001b[39mto_csv(name)\n\u001b[0;32m---> 14\u001b[0m zscorecalc(\u001b[38;5;124m'\u001b[39m\u001b[38;5;124m/Users/connorlockhart/Documents/GitHub/fall-2025-predicting-movie-success/modified_data/connor_modified_data/user_reviews_yes_late.csv\u001b[39m\u001b[38;5;124m'\u001b[39m, \u001b[38;5;124m'\u001b[39m\u001b[38;5;124m/Users/connorlockhart/Documents/GitHub/fall-2025-predicting-movie-success/modified_data/connor_modified_data/movie_reviews_all.csv\u001b[39m\u001b[38;5;124m'\u001b[39m, \u001b[38;5;124m\"\u001b[39m\u001b[38;5;124m/Users/connorlockhart/Documents/GitHub/fall-2025-predicting-movie-success/modified_data/connor_modified_data/zscoretest.csv\u001b[39m\u001b[38;5;124m\"\u001b[39m)\n",
      "Cell \u001b[0;32mIn[8], line 6\u001b[0m, in \u001b[0;36mzscorecalc\u001b[0;34m(user, movie, name)\u001b[0m\n\u001b[1;32m      4\u001b[0m \u001b[38;5;66;03m#open the input files\u001b[39;00m\n\u001b[1;32m      5\u001b[0m     dfzscore \u001b[38;5;241m=\u001b[39m pd\u001b[38;5;241m.\u001b[39mDataFrame()\n\u001b[0;32m----> 6\u001b[0m     dfzscore\u001b[38;5;241m.\u001b[39mcolumns \u001b[38;5;241m=\u001b[39m dfuser\u001b[38;5;241m.\u001b[39mcolumns\n\u001b[1;32m      7\u001b[0m     dfzscore\u001b[38;5;241m.\u001b[39mdrop([\u001b[38;5;124m'\u001b[39m\u001b[38;5;124m0.5\u001b[39m\u001b[38;5;124m'\u001b[39m,\u001b[38;5;124m'\u001b[39m\u001b[38;5;124m1\u001b[39m\u001b[38;5;124m'\u001b[39m,\u001b[38;5;124m'\u001b[39m\u001b[38;5;124m1.5\u001b[39m\u001b[38;5;124m'\u001b[39m,\u001b[38;5;124m'\u001b[39m\u001b[38;5;124m2\u001b[39m\u001b[38;5;124m'\u001b[39m,\u001b[38;5;124m'\u001b[39m\u001b[38;5;124m2.5\u001b[39m\u001b[38;5;124m'\u001b[39m,\u001b[38;5;124m'\u001b[39m\u001b[38;5;124m3\u001b[39m\u001b[38;5;124m'\u001b[39m,\u001b[38;5;124m'\u001b[39m\u001b[38;5;124m3.5\u001b[39m\u001b[38;5;124m'\u001b[39m,\u001b[38;5;124m'\u001b[39m\u001b[38;5;124m4\u001b[39m\u001b[38;5;124m'\u001b[39m,\u001b[38;5;124m'\u001b[39m\u001b[38;5;124m4.5\u001b[39m\u001b[38;5;124m'\u001b[39m,\u001b[38;5;124m'\u001b[39m\u001b[38;5;124m5\u001b[39m\u001b[38;5;124m'\u001b[39m,\u001b[38;5;124m'\u001b[39m\u001b[38;5;124mtotal\u001b[39m\u001b[38;5;124m'\u001b[39m,\u001b[38;5;124m'\u001b[39m\u001b[38;5;124mmean\u001b[39m\u001b[38;5;124m'\u001b[39m,\u001b[38;5;124m'\u001b[39m\u001b[38;5;124mvariance\u001b[39m\u001b[38;5;124m'\u001b[39m,\u001b[38;5;124m'\u001b[39m\u001b[38;5;124mstd_dev\u001b[39m\u001b[38;5;124m'\u001b[39m], axis\u001b[38;5;241m=\u001b[39m\u001b[38;5;241m1\u001b[39m, inplace\u001b[38;5;241m=\u001b[39m\u001b[38;5;28;01mTrue\u001b[39;00m)\n\u001b[1;32m      8\u001b[0m     dfzscore[\u001b[38;5;124m'\u001b[39m\u001b[38;5;124musername\u001b[39m\u001b[38;5;124m'\u001b[39m] \u001b[38;5;241m=\u001b[39m dfuser[\u001b[38;5;124m'\u001b[39m\u001b[38;5;124musername\u001b[39m\u001b[38;5;124m'\u001b[39m]\n",
      "File \u001b[0;32m/opt/anaconda3/lib/python3.13/site-packages/pandas/core/generic.py:6313\u001b[0m, in \u001b[0;36mNDFrame.__setattr__\u001b[0;34m(self, name, value)\u001b[0m\n\u001b[1;32m   6311\u001b[0m \u001b[38;5;28;01mtry\u001b[39;00m:\n\u001b[1;32m   6312\u001b[0m     \u001b[38;5;28mobject\u001b[39m\u001b[38;5;241m.\u001b[39m\u001b[38;5;21m__getattribute__\u001b[39m(\u001b[38;5;28mself\u001b[39m, name)\n\u001b[0;32m-> 6313\u001b[0m     \u001b[38;5;28;01mreturn\u001b[39;00m \u001b[38;5;28mobject\u001b[39m\u001b[38;5;241m.\u001b[39m\u001b[38;5;21m__setattr__\u001b[39m(\u001b[38;5;28mself\u001b[39m, name, value)\n\u001b[1;32m   6314\u001b[0m \u001b[38;5;28;01mexcept\u001b[39;00m \u001b[38;5;167;01mAttributeError\u001b[39;00m:\n\u001b[1;32m   6315\u001b[0m     \u001b[38;5;28;01mpass\u001b[39;00m\n",
      "File \u001b[0;32mproperties.pyx:69\u001b[0m, in \u001b[0;36mpandas._libs.properties.AxisProperty.__set__\u001b[0;34m()\u001b[0m\n",
      "File \u001b[0;32m/opt/anaconda3/lib/python3.13/site-packages/pandas/core/generic.py:814\u001b[0m, in \u001b[0;36mNDFrame._set_axis\u001b[0;34m(self, axis, labels)\u001b[0m\n\u001b[1;32m    809\u001b[0m \u001b[38;5;250m\u001b[39m\u001b[38;5;124;03m\"\"\"\u001b[39;00m\n\u001b[1;32m    810\u001b[0m \u001b[38;5;124;03mThis is called from the cython code when we set the `index` attribute\u001b[39;00m\n\u001b[1;32m    811\u001b[0m \u001b[38;5;124;03mdirectly, e.g. `series.index = [1, 2, 3]`.\u001b[39;00m\n\u001b[1;32m    812\u001b[0m \u001b[38;5;124;03m\"\"\"\u001b[39;00m\n\u001b[1;32m    813\u001b[0m labels \u001b[38;5;241m=\u001b[39m ensure_index(labels)\n\u001b[0;32m--> 814\u001b[0m \u001b[38;5;28mself\u001b[39m\u001b[38;5;241m.\u001b[39m_mgr\u001b[38;5;241m.\u001b[39mset_axis(axis, labels)\n\u001b[1;32m    815\u001b[0m \u001b[38;5;28mself\u001b[39m\u001b[38;5;241m.\u001b[39m_clear_item_cache()\n",
      "File \u001b[0;32m/opt/anaconda3/lib/python3.13/site-packages/pandas/core/internals/managers.py:238\u001b[0m, in \u001b[0;36mBaseBlockManager.set_axis\u001b[0;34m(self, axis, new_labels)\u001b[0m\n\u001b[1;32m    236\u001b[0m \u001b[38;5;28;01mdef\u001b[39;00m\u001b[38;5;250m \u001b[39m\u001b[38;5;21mset_axis\u001b[39m(\u001b[38;5;28mself\u001b[39m, axis: AxisInt, new_labels: Index) \u001b[38;5;241m-\u001b[39m\u001b[38;5;241m>\u001b[39m \u001b[38;5;28;01mNone\u001b[39;00m:\n\u001b[1;32m    237\u001b[0m     \u001b[38;5;66;03m# Caller is responsible for ensuring we have an Index object.\u001b[39;00m\n\u001b[0;32m--> 238\u001b[0m     \u001b[38;5;28mself\u001b[39m\u001b[38;5;241m.\u001b[39m_validate_set_axis(axis, new_labels)\n\u001b[1;32m    239\u001b[0m     \u001b[38;5;28mself\u001b[39m\u001b[38;5;241m.\u001b[39maxes[axis] \u001b[38;5;241m=\u001b[39m new_labels\n",
      "File \u001b[0;32m/opt/anaconda3/lib/python3.13/site-packages/pandas/core/internals/base.py:98\u001b[0m, in \u001b[0;36mDataManager._validate_set_axis\u001b[0;34m(self, axis, new_labels)\u001b[0m\n\u001b[1;32m     95\u001b[0m     \u001b[38;5;28;01mpass\u001b[39;00m\n\u001b[1;32m     97\u001b[0m \u001b[38;5;28;01melif\u001b[39;00m new_len \u001b[38;5;241m!=\u001b[39m old_len:\n\u001b[0;32m---> 98\u001b[0m     \u001b[38;5;28;01mraise\u001b[39;00m \u001b[38;5;167;01mValueError\u001b[39;00m(\n\u001b[1;32m     99\u001b[0m         \u001b[38;5;124mf\u001b[39m\u001b[38;5;124m\"\u001b[39m\u001b[38;5;124mLength mismatch: Expected axis has \u001b[39m\u001b[38;5;132;01m{\u001b[39;00mold_len\u001b[38;5;132;01m}\u001b[39;00m\u001b[38;5;124m elements, new \u001b[39m\u001b[38;5;124m\"\u001b[39m\n\u001b[1;32m    100\u001b[0m         \u001b[38;5;124mf\u001b[39m\u001b[38;5;124m\"\u001b[39m\u001b[38;5;124mvalues have \u001b[39m\u001b[38;5;132;01m{\u001b[39;00mnew_len\u001b[38;5;132;01m}\u001b[39;00m\u001b[38;5;124m elements\u001b[39m\u001b[38;5;124m\"\u001b[39m\n\u001b[1;32m    101\u001b[0m     )\n",
      "\u001b[0;31mValueError\u001b[0m: Length mismatch: Expected axis has 0 elements, new values have 80 elements"
     ]
    }
   ],
   "source": [
    "def zscorecalc(user,movie,name):\n",
    "    dfuser = pd.read_csv(user)\n",
    "    dfmovie = pd.read_csv(movie)\n",
    "#open the input files\n",
    "    dfzscore = pd.DataFrame()\n",
    "    dfzscore.columns = dfuser.columns\n",
    "    dfzscore.drop(['0.5','1','1.5','2','2.5','3','3.5','4','4.5','5','total','mean','variance','std_dev'], axis=1, inplace=True)\n",
    "    dfzscore['username'] = dfuser['username']\n",
    "    dfzscore['user_mean'] = dfuser['mean']\n",
    "    dfzscore['user_std_dev'] = dfuser['std_dev']\n",
    "\n",
    "    dfzscore.to_csv(name)\n",
    "\n",
    "zscorecalc('/Users/connorlockhart/Documents/GitHub/fall-2025-predicting-movie-success/modified_data/connor_modified_data/user_reviews_yes_late.csv', '/Users/connorlockhart/Documents/GitHub/fall-2025-predicting-movie-success/modified_data/connor_modified_data/movie_reviews_all.csv', \"/Users/connorlockhart/Documents/GitHub/fall-2025-predicting-movie-success/modified_data/connor_modified_data/zscoretest.csv\")\n"
   ]
  },
  {
   "cell_type": "code",
   "execution_count": null,
   "id": "774a5b86",
   "metadata": {},
   "outputs": [],
   "source": []
  }
 ],
 "metadata": {
  "kernelspec": {
   "display_name": "base",
   "language": "python",
   "name": "python3"
  },
  "language_info": {
   "codemirror_mode": {
    "name": "ipython",
    "version": 3
   },
   "file_extension": ".py",
   "mimetype": "text/x-python",
   "name": "python",
   "nbconvert_exporter": "python",
   "pygments_lexer": "ipython3",
   "version": "3.13.5"
  }
 },
 "nbformat": 4,
 "nbformat_minor": 5
}
